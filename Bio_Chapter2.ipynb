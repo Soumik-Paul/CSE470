{
 "cells": [
  {
   "cell_type": "markdown",
   "metadata": {},
   "source": [
    "__BA2A__"
   ]
  },
  {
   "cell_type": "code",
   "execution_count": 2,
   "metadata": {},
   "outputs": [
    {
     "name": "stdout",
     "output_type": "stream",
     "text": [
      "AAATT AACCG AACGG AACGT AAGGT AAGTC AAGTG AAGTT AATCG AATCT AATGT AATTA AATTT ACAAG ACAAT ACACG ACAGG ACATG ACATT ACCAT ACCGA ACCGG ACCGT ACGAG ACGAT ACGCT ACGGG ACGGT ACGTG ACGTT ACTAT ACTGG AGAAT AGACG AGACT AGAGT AGATA AGATT AGCAG AGCCG AGCCT AGCGT AGCTC AGCTG AGCTT AGGCA AGGCG AGGGT AGGTA AGGTC AGGTG AGGTT AGTAC AGTAT AGTCG AGTCT AGTGA AGTGC AGTGT AGTTA AGTTG AGTTT ATATG ATATT ATCAG ATCCG ATCGA ATCGC ATCGT ATCTG ATCTT ATGAC ATGAG ATGCC ATGGC ATGGG ATGGT ATGTA ATGTC ATGTG ATGTT ATTAG ATTAT ATTCA ATTCG ATTGA ATTGT CAAGA CAAGC CAAGT CAATA CAGAG CAGAT CAGCG CAGGA CAGGC CAGGG CAGGT CAGTG CATCG CATGT CATTA CATTG CCAGA CCAGG CCATG CCGGA CCGGG CCGGT CCGTA CCTGG CGAAT CGAGA CGATA CGATG CGCGG CGCTT CGGAG CGGAT CGGCA CGGGA CGGGG CGGGT CGGTA CGGTC CGGTG CGGTT CGTAA CGTAG CGTAT CGTCT CGTGA CGTGC CGTGG CGTGT CGTTA CGTTG CGTTT CTAGA CTAGT CTATC CTCGG CTGAT CTGCT CTGGT CTGTT CTTAG CTTCG CTTGG CTTGT CTTTG GAATC GACAG GACAT GACCT GACGC GACGG GACGT GACTT GAGAT GAGGT GAGTA GATAA GATAC GATAG GATAT GATCC GATCG GATCT GATGG GATGT GATTA GATTC GATTG GATTT GCAAG GCAGA GCAGC GCAGG GCATT GCCAG GCCAT GCCGA GCCGG GCCTA GCGAG GCGAT GCGGT GCGTG GCTAA GCTAG GCTCT GCTGT GCTTA GCTTG GCTTT GGAAT GGACG GGAGT GGATA GGATG GGATT GGCAA GGCAC GGCAG GGCAT GGCCT GGCGA GGCGC GGCGT GGCTA GGCTT GGGAC GGGAT GGGCA GGGGA GGGGT GGGTA GGGTC GGGTG GGGTT GGTAA GGTAC GGTAG GGTAT GGTCA GGTCC GGTCG GGTCT GGTGA GGTGC GGTGG GGTGT GGTTA GGTTC GGTTG GGTTT GTAAG GTAAT GTACG GTACT GTAGC GTATG GTATT GTCAT GTCCA GTCCG GTCGA GTCGG GTCGT GTCTG GTCTT GTGAT GTGCT GTGGA GTGGC GTGGT GTGTA GTGTC GTTAG GTTAT GTTCA GTTCG GTTCT GTTGA GTTTA GTTTT TACCA TACCG TACGA TACGT TAGAC TAGGT TAGTA TAGTC TAGTG TAGTT TATAC TATCC TATCT TATGT TATTC TATTG TCAGA TCAGG TCATG TCCGG TCCGT TCGGA TCGGG TCGGT TCGTA TCGTG TCGTT TCTCA TCTGA TCTGC TCTTC TCTTG TGAAA TGACA TGACG TGAGA TGATA TGATC TGATG TGATT TGCAG TGCTA TGCTC TGCTG TGCTT TGGAC TGGAT TGGCA TGGCC TGGGA TGGGT TGGTA TGGTC TGGTG TGGTT TGTAA TGTAC TGTAG TGTCA TGTCC TGTCT TGTGA TGTGC TGTGG TGTTA TGTTC TGTTG TGTTT TTACA TTAGA TTAGG TTAGT TTATC TTCAG TTCCG TTCGG TTCGT TTGAT TTGCG TTGCT TTGGA TTGGC TTGGT TTGTC TTGTG TTTAA TTTAG TTTCG TTTGG TTTTA "
     ]
    }
   ],
   "source": [
    "from itertools import product\n",
    "def hamming_distance(first,second):\n",
    "    return sum(c1!=c2 for c1,c2 in zip(first,second))\n",
    "\n",
    "\n",
    "def all_kmer(k):\n",
    "   return [''.join(p) for p in product(\"ACGT\",repeat=k)]\n",
    "\n",
    "with open(\"rosalind_ba2a.txt\", \"r\") as f:\n",
    "        k, d = map(int, f.readline().strip().split())\n",
    "        dnas = [line.strip() for line in f]\n",
    "ans=[]\n",
    "kmer = all_kmer(k)\n",
    "for s in kmer:\n",
    "    count=0\n",
    "    for dna in dnas:\n",
    "        for i in range(len(dna)-k+1):\n",
    "            sub = dna[i:i+k]\n",
    "            if hamming_distance(sub,s)<=d:\n",
    "                count= count+1\n",
    "                break\n",
    "    if(count == len(dnas)):\n",
    "        ans.append(s)\n",
    "\n",
    "for i in ans:\n",
    "    print(i,end=\" \")"
   ]
  },
  {
   "cell_type": "markdown",
   "metadata": {},
   "source": [
    "__BA2B__"
   ]
  },
  {
   "cell_type": "code",
   "execution_count": 14,
   "metadata": {},
   "outputs": [
    {
     "data": {
      "text/plain": [
       "'CTACGC'"
      ]
     },
     "execution_count": 14,
     "metadata": {},
     "output_type": "execute_result"
    }
   ],
   "source": [
    "def hamming_distance(first,second):\n",
    "    return sum(c1!=c2 for c1,c2 in zip(first,second))\n",
    "\n",
    "\n",
    "def all_kmer(k):\n",
    "   return [''.join(p) for p in product(\"ACGT\",repeat=k)]\n",
    "\n",
    "def solve(dnas,k):\n",
    "    kmer=[]\n",
    "    final_list=\" \"\n",
    "    ans= 99999999\n",
    "    \n",
    "    kmer = all_kmer(k)\n",
    "\n",
    "    for i in kmer:\n",
    "        sum=0\n",
    "        for dna in dnas:\n",
    "           # mini=99999999\n",
    "            dis=[]\n",
    "            for x in range(len(dna)-k+1):\n",
    "                dis.append(hamming_distance(i,dna[x:x+k]))\n",
    "            \n",
    "            sum+=min(dis)\n",
    "        if sum <ans:\n",
    "            ans=sum\n",
    "            final_list = i\n",
    "    return final_list\n",
    "    \n",
    "dnas=[\"AAATTGACGCAT\",\n",
    "\"GACGACCACGTT\",\n",
    "\"CGTCAGCGCCTG\",\n",
    "\"GCTGAGCACCGG\",\n",
    "\"AGTACGGGACAG\"]\n",
    "\n",
    "with open(\"rosalind_ba2b.txt\", \"r\") as f:\n",
    "        k = int(f.readline().strip())\n",
    "        dnas = [line.strip() for line in f]\n",
    "solve(dnas,k)"
   ]
  },
  {
   "cell_type": "markdown",
   "metadata": {},
   "source": [
    "__BA2C Find a Profile-most Probable k-mer in a String__"
   ]
  },
  {
   "cell_type": "code",
   "execution_count": 1,
   "metadata": {},
   "outputs": [
    {
     "name": "stdout",
     "output_type": "stream",
     "text": [
      "CGGCTA\n"
     ]
    }
   ],
   "source": [
    "def ProbableKmer(string, matrix):\n",
    "    probable = 1\n",
    "    for i in range(len(string)):\n",
    "        if string[i] == 'A':\n",
    "            probable *= matrix[0][i]\n",
    "        if string[i] == 'C':\n",
    "            probable *= matrix[1][i]\n",
    "        if string[i] == 'G':\n",
    "            probable *= matrix[2][i]\n",
    "        if string[i] == 'T':\n",
    "            probable *= matrix[3][i]\n",
    "    return probable\n",
    "def FindProfileMostProbableKmer(string, k, matrix):\n",
    "    ans=\"\"\n",
    "    maxi=-1.0\n",
    "    for i in range(len(string)-k+1):\n",
    "        current=string[i:i+k]\n",
    "        if ProbableKmer(current,matrix)>maxi:\n",
    "            maxi=ProbableKmer(current,matrix)\n",
    "            ans=current\n",
    "    return ans\n",
    "\n",
    "with open(\"rosalind_ba2c.txt\", \"r\") as f:\n",
    "        string = f.readline().strip()\n",
    "        k = int(f.readline().strip())\n",
    "        matrix =[[float(l) for l in line.strip().split()] for line in f]\n",
    "print(FindProfileMostProbableKmer(string, k, matrix))"
   ]
  },
  {
   "cell_type": "markdown",
   "metadata": {},
   "source": [
    "__BA2D__"
   ]
  },
  {
   "cell_type": "code",
   "execution_count": null,
   "metadata": {},
   "outputs": [],
   "source": [
    "def probability(string,matrix):\n",
    "    val=1.0\n",
    "    for i in range(len(string)):\n",
    "        if string[i]=='A':\n",
    "            val*=matrix[0][i]\n",
    "        elif string[i]=='C':\n",
    "            val*=matrix[1][i]\n",
    "        elif string[i]=='G':\n",
    "            val*=matrix[2][i]\n",
    "        else:\n",
    "            val*=matrix[3][i]\n",
    "    return val\n",
    "\n",
    "def most_probablekmer(text,k,matrix):\n",
    "    ans=\"\"\n",
    "    maxi=-1.0\n",
    "    for i in range(len(text)-k+1):\n",
    "        current=text[i:i+k]\n",
    "        if probability(current,matrix)>maxi:\n",
    "            maxi=probability(current,matrix)\n",
    "            ans=current\n",
    "    return ans\n",
    "\n",
    "\n",
    "def _score(motif):\n",
    "    count=0\n",
    "    for i in range(len(motif[0])):\n",
    "        j=[x[i] for x in motif]\n",
    "        count+=len(j)-max(j.count(\"A\"),j.count(\"C\"),j.count(\"G\"),j.count(\"T\"))\n",
    "    return count\n",
    "\n",
    "\n",
    "def solve(Dna,k,t):\n",
    "    best=[x[:k] for x in Dna]\n",
    "    all=[]\n",
    "    for i in range(len(Dna[0])-k+1):\n",
    "        all.append(Dna[0][i:i+k])\n",
    "    \n",
    "    for kmer in all:\n",
    "        Motif=[kmer]\n",
    "        for i in range(1,t):\n",
    "            matrix=[]\n",
    "            for base in [\"A\",\"C\",\"G\",\"T\"]:\n",
    "                row=[]\n",
    "                for j in range(k):\n",
    "                    col=[x[j] for x in Motif]\n",
    "                    row.append(col.count(base)/len(Motif))\n",
    "                matrix.append(row)\n",
    "            Motif.append(most_probablekmer(Dna[i],k,matrix))\n",
    "        if _score(Motif) < _score(best):\n",
    "            best=Motif\n",
    "    return best\n",
    "\n",
    "\n",
    "Dna=[\"GGCGTTCAGGCA\",\"AAGAATCAGTCA\",\"CAAGGAGTTCGC\",\"CACGTCAATCAC\",\"CAATAATATTCG\"]\n",
    "k,t=3,5\n",
    "solve(Dna,k,t)"
   ]
  },
  {
   "cell_type": "markdown",
   "metadata": {},
   "source": [
    "__BA2F__ <br>\n",
    "__Implement Randomized Motif seach__"
   ]
  },
  {
   "cell_type": "code",
   "execution_count": 23,
   "metadata": {},
   "outputs": [
    {
     "name": "stdout",
     "output_type": "stream",
     "text": [
      "8\n",
      "TTAACC\n",
      "TCATCC\n",
      "TTAACC\n",
      "TTATGG\n",
      "TTAACC\n",
      "TTAAGC\n",
      "TTAACC\n",
      "TTGAAC\n"
     ]
    }
   ],
   "source": [
    "import random\n",
    "\n",
    "def probability(string, matrix):\n",
    "    val = 1.0\n",
    "    for i in range(len(string)):\n",
    "        if string[i] == 'A':\n",
    "            val *= matrix[0][i]\n",
    "        elif string[i] == 'C':\n",
    "            val *= matrix[1][i]\n",
    "        elif string[i] == 'G':\n",
    "            val *= matrix[2][i]\n",
    "        else:\n",
    "            val *= matrix[3][i]\n",
    "    return val\n",
    "\n",
    "def random_motif_kmer(text, k, matrix):\n",
    "    possible_kmers = []\n",
    "    max_prob = -1.0\n",
    "\n",
    "    for i in range(len(text) - k + 1):\n",
    "        current_kmer = text[i:i + k]\n",
    "        current_prob = probability(current_kmer, matrix)\n",
    "\n",
    "        if current_prob > max_prob:\n",
    "            possible_kmers = [current_kmer]\n",
    "            max_prob = current_prob\n",
    "        elif current_prob == max_prob:\n",
    "            possible_kmers.append(current_kmer)\n",
    "\n",
    "    return random.choice(possible_kmers)\n",
    "\n",
    "def score(motif):\n",
    "    count = 0\n",
    "    for i in range(len(motif[0])):\n",
    "        \n",
    "        j = [x[i] for x in motif]\n",
    "        count += len(j) - max(j.count(\"A\"), j.count(\"C\"), j.count(\"G\"), j.count(\"T\"))\n",
    "    return count\n",
    "\n",
    "def randomized_motif_search(Dna, k, t, max_iterations=1000):\n",
    "    best_motif = [x[:k] for x in Dna]\n",
    "    \n",
    "    best_score = score(best_motif)\n",
    "\n",
    "    for _ in range(max_iterations):\n",
    "        motifs = []\n",
    "        for text in Dna: \n",
    "            kmer = random.randint(0, len(text) - k)\n",
    "            motifs.append(text[kmer:kmer + k])\n",
    "\n",
    "        while True:\n",
    "            matrix = [] \n",
    "            for base in [\"A\", \"C\", \"G\", \"T\"]:\n",
    "                row = []   \n",
    "                for j in range(k):      \n",
    "                    col = [x[j] for x in motifs]\n",
    "                    row.append((col.count(base) + 1) / (len(motifs) + 4))\n",
    "                matrix.append(row)\n",
    "\n",
    "            new_motifs = [random_motif_kmer(text, k, matrix) for text in Dna]\n",
    "            new_score = score(new_motifs)\n",
    "\n",
    "            if new_score < best_score:\n",
    "                best_motif = new_motifs\n",
    "                best_score = new_score\n",
    "            else:\n",
    "                break\n",
    "    print(best_score)\n",
    "    return best_motif\n",
    "\n",
    "Dna = [\n",
    "'GCACATCATTAAACGATTCGCCGCATTGCCTCGATTAACC',\n",
    "'TCATAACTGACACCTGCTCTGGCACCGCTCATCCAAGGCC',\n",
    "'AAGCGGGTATAGCCAGATAGTGCCAATAATTTCCTTAACC',\n",
    "'AGTCGGTGGTGAAGTGTGGGTTATGGGGAAAGGCAAGGCC',\n",
    "'AACCGGACGGCAACTACGGTTACAACGCAGCAAGTTAACC',\n",
    "'AGGCGTCTGTTGTTGCTAACACCGTTAAGCGACGAAGGCC',\n",
    "'AAGCTTCCAACATCGTCTTGGCATCTCGGTGTGTTTAACC',\n",
    "'AATTGAACATCTTACTCTTTTCGCTTTCAAAAAAAAGGCC']\n",
    "k, t = 6, 8\n",
    "result = randomized_motif_search(Dna, k, t, max_iterations=1000)\n",
    "for motif in result:\n",
    "    print(motif)\n"
   ]
  },
  {
   "cell_type": "markdown",
   "metadata": {},
   "source": [
    "__BA2H Implement DistanceBetweenPatternAndStrings__"
   ]
  },
  {
   "cell_type": "code",
   "execution_count": 22,
   "metadata": {},
   "outputs": [
    {
     "data": {
      "text/plain": [
       "37"
      ]
     },
     "execution_count": 22,
     "metadata": {},
     "output_type": "execute_result"
    }
   ],
   "source": [
    "def hamming_distance5(first,second):\n",
    "    return sum(c1!=c2 for c1,c2 in zip(first,second))\n",
    "\n",
    "def solve(dnas,pat):\n",
    "    l1= len(pat)\n",
    "    sum=0\n",
    "    for dna in dnas:\n",
    "        mini=9999\n",
    "        for i in range(len(dna)-l1+1):\n",
    "            mini=min(mini,hamming_distance5(pat,dna[i:i+l1]))\n",
    "        sum+=mini\n",
    "    return sum\n",
    "        \n",
    "\n",
    "pattern=\"TAA\"\n",
    "dnas=[\"TTTATTT\",\"CCTACAC\",\"GGTAGAG\"]\n",
    "\n",
    "\n",
    "with open(\"rosalind_ba2h.txt\", \"r\") as f:\n",
    "        pattern = f.readline().strip()\n",
    "        dnas = f.readline().strip().split(\" \")\n",
    "\n",
    "solve(dnas,pattern)"
   ]
  }
 ],
 "metadata": {
  "kernelspec": {
   "display_name": "Python 3",
   "language": "python",
   "name": "python3"
  },
  "language_info": {
   "codemirror_mode": {
    "name": "ipython",
    "version": 3
   },
   "file_extension": ".py",
   "mimetype": "text/x-python",
   "name": "python",
   "nbconvert_exporter": "python",
   "pygments_lexer": "ipython3",
   "version": "3.9.13"
  }
 },
 "nbformat": 4,
 "nbformat_minor": 2
}
