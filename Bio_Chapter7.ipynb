{
 "cells": [
  {
   "cell_type": "code",
   "execution_count": null,
   "metadata": {},
   "outputs": [],
   "source": []
  },
  {
   "cell_type": "markdown",
   "metadata": {},
   "source": [
    "7A\n"
   ]
  },
  {
   "cell_type": "code",
   "execution_count": 2,
   "metadata": {},
   "outputs": [],
   "source": [
    "dis = [[10000000000 for j in range(100)] for i in range(100)]\n",
    "for i in range(100):\n",
    "  dis[i][i] = 0\n",
    "n = 0\n",
    "with open('7a.txt', 'r') as f:\n",
    "  n = int(f.readline())\n",
    "  lines = f.readlines()\n",
    "  for line in lines:\n",
    "    adj, w = line.strip().split(':')\n",
    "    x, y = map(int, adj.strip().split('->'))\n",
    "    dis[x][y] = int(w)\n"
   ]
  },
  {
   "cell_type": "code",
   "execution_count": 10,
   "metadata": {},
   "outputs": [
    {
     "name": "stdout",
     "output_type": "stream",
     "text": [
      "0 13 21 22\n",
      "13 0 12 13\n",
      "21 12 0 13\n",
      "22 13 13 0\n"
     ]
    }
   ],
   "source": [
    "for k in range(100):\n",
    "  for i in range(100):\n",
    "    for j in range(100):\n",
    "      if(i == j or i == k or j == k):\n",
    "        continue\n",
    "      dis[i][j] = min(dis[i][j], dis[i][k] + dis[k][j] )\n",
    "      dis[j][i] = dis[i][j]\n",
    "for i in range(n):\n",
    "  #print(dis[i][:n],end='\\n')\n",
    "  print(' '.join(str(x) for x in dis[i][:n]))"
   ]
  },
  {
   "cell_type": "markdown",
   "metadata": {},
   "source": [
    "__7B__"
   ]
  },
  {
   "cell_type": "code",
   "execution_count": 16,
   "metadata": {},
   "outputs": [
    {
     "name": "stdout",
     "output_type": "stream",
     "text": [
      "[2, 0, 2]\n",
      "2\n"
     ]
    }
   ],
   "source": [
    "\n",
    "\n",
    "n, x = 0, 0\n",
    "arr = []\n",
    "with open('rosalind_ba7b.txt', 'r') as f:\n",
    "  n = int(f.readline())\n",
    "  x = int(f.readline())\n",
    "  lines = f.readlines()\n",
    "  for line in lines:\n",
    "    tmp = list(map(int, line.strip().split()))\n",
    "    arr.append(tmp)\n",
    "#print(arr)\n",
    "\n",
    "arr = [[0, 13, 21, 22], [13, 0, 12, 13], [21, 12, 0, 13], [22, 13, 13, 0]]\n",
    "n=4\n",
    "x=1\n",
    "\n",
    "def lim_len(x):\n",
    "  ans = 1000000000000\n",
    "  idx = -1\n",
    "  k = -1\n",
    "  for i in range(n):\n",
    "    for j in range(n):\n",
    "      if(i == j or i == x or j == x):\n",
    "        continue\n",
    "      d = (arr[x][i] + arr[x][j] - arr[i][j]) // 2\n",
    "\n",
    "      if(d < ans):\n",
    "        ans = d\n",
    "        idx = i\n",
    "        k = j\n",
    "  tmp = [ans,idx,k]\n",
    "  print(tmp)\n",
    "  return tmp\n",
    "print(lim_len(x)[0])\n"
   ]
  }
 ],
 "metadata": {
  "kernelspec": {
   "display_name": "Python 3",
   "language": "python",
   "name": "python3"
  },
  "language_info": {
   "codemirror_mode": {
    "name": "ipython",
    "version": 3
   },
   "file_extension": ".py",
   "mimetype": "text/x-python",
   "name": "python",
   "nbconvert_exporter": "python",
   "pygments_lexer": "ipython3",
   "version": "3.9.13"
  }
 },
 "nbformat": 4,
 "nbformat_minor": 2
}
