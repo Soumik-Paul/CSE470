{
 "cells": [
  {
   "cell_type": "markdown",
   "metadata": {},
   "source": [
    "__BA3A__ <br>\n",
    "__Generate the k-mer Composition of a String__"
   ]
  },
  {
   "cell_type": "code",
   "execution_count": 2,
   "metadata": {},
   "outputs": [
    {
     "name": "stdout",
     "output_type": "stream",
     "text": [
      "AATCC\n",
      "ATCCA\n",
      "CAATC\n",
      "CCAAC\n",
      "TCCAA\n"
     ]
    }
   ],
   "source": [
    "def solve(text,k):\n",
    "    mylist=[]\n",
    "    for i in range(len(text)-k+1):\n",
    "        mylist.append(text[i:i+k])\n",
    "    mylist=sorted(mylist)\n",
    "    for i in mylist:\n",
    "        print(i,end=\"\\n\")\n",
    "\n",
    "with open(\"rosalind_ba3a.txt\", \"r\") as f:\n",
    "        k = int(f.readline().strip())\n",
    "        dnas = f.readline().strip()\n",
    "        '''k= 5\n",
    "           dnas =CAATCCAAC'''\n",
    "        \n",
    "\n",
    "       \n",
    "solve(dnas,k)"
   ]
  },
  {
   "cell_type": "markdown",
   "metadata": {},
   "source": [
    "__BA3B__ <br>\n",
    "__Reconstruct a String from its Genome Path__"
   ]
  },
  {
   "cell_type": "code",
   "execution_count": 4,
   "metadata": {},
   "outputs": [
    {
     "name": "stdout",
     "output_type": "stream",
     "text": [
      "ACCGAAGCT\n"
     ]
    }
   ],
   "source": [
    "def solve(s):\n",
    "    ans=s[0]\n",
    "    for i in s[1:]:\n",
    "        ans+=i[-1]\n",
    "    print(ans) \n",
    "'''\n",
    "s=[\"ACCGA\",\n",
    "\"CCGAA\",\n",
    "\"CGAAG\",\n",
    "\"GAAGC\",\n",
    "\"AAGCT\"]\n",
    "'''\n",
    "with open('rosalind_ba3b.txt', 'r') as f:\n",
    "        s = [line.strip() for line in f.readlines()]\n",
    "\n",
    "solve(s)\n",
    "        "
   ]
  },
  {
   "cell_type": "markdown",
   "metadata": {},
   "source": [
    "__BA3C__ <br>\n",
    "__Construct the Overlap Graph of a Collection of k-mers__"
   ]
  },
  {
   "cell_type": "code",
   "execution_count": 5,
   "metadata": {},
   "outputs": [
    {
     "name": "stdout",
     "output_type": "stream",
     "text": [
      "AGGCA -> GGCAT\n",
      "CATGC -> ATGCG\n",
      "GCATG -> CATGC\n",
      "GGCAT -> GCATG\n"
     ]
    }
   ],
   "source": [
    "def solve(patterns):\n",
    "    ans=[]\n",
    "    n = len(patterns)\n",
    "    for i in range(n):\n",
    "        for j in range(n):\n",
    "            if i != j and patterns[i][1:] == patterns[j][:-1]:\n",
    "                ans.append(patterns[i] + ' -> ' + patterns[j])\n",
    "    ans= sorted(ans)\n",
    "    for i in ans:\n",
    "         print(i)\n",
    "    \n",
    "    ''' \n",
    "        ATGCG\n",
    "        GCATG\n",
    "        CATGC\n",
    "        AGGCA\n",
    "        GGCAT\n",
    "    '''\n",
    "\n",
    "\n",
    "with open('rosalind_ba3c.txt', 'r') as f:\n",
    "        patterns = [line.strip() for line in f]\n",
    "solve(patterns)"
   ]
  },
  {
   "cell_type": "markdown",
   "metadata": {},
   "source": [
    "__BA3D__ <br>\n",
    "__Construct the De Bruijn Graph of a String__"
   ]
  },
  {
   "cell_type": "code",
   "execution_count": 38,
   "metadata": {},
   "outputs": [
    {
     "name": "stdout",
     "output_type": "stream",
     "text": [
      "AAG -> AGA\n",
      "AGA -> GAT\n",
      "ATT -> TTC\n",
      "CTA -> TAC\n",
      "CTC -> TCT\n",
      "GAT -> ATT\n",
      "TCT -> CTC,CTA\n",
      "TTC -> TCT\n"
     ]
    }
   ],
   "source": [
    "def DeBruijn(text, k):\n",
    "    result = {}\n",
    "    for i in range(len(text)-k+1):\n",
    "        if text[i:i+k-1] not in result.keys():\n",
    "            result[text[i:i+k-1]] = text[i+1:i+k]\n",
    "        else:\n",
    "            result[text[i:i+k-1]] += ',' + text[i+1:i+k]\n",
    "    return result\n",
    "''' 4\n",
    "AAGATTCTCTAC\n",
    "'''\n",
    "if __name__ == '__main__':\n",
    "    with open('rosalind_ba3d.txt', 'r') as f:\n",
    "        k = int(f.readline().strip())\n",
    "        text = f.readline().strip()\n",
    "    r = DeBruijn(text, k)\n",
    "    for key in sorted(r.keys()):\n",
    "        print(key + ' -> ' + r[key])"
   ]
  },
  {
   "cell_type": "markdown",
   "metadata": {},
   "source": [
    "__BA3E__ <br>\n",
    "__Construct the De Bruijn Graph of a Collection of k-mers__"
   ]
  },
  {
   "cell_type": "code",
   "execution_count": 9,
   "metadata": {},
   "outputs": [
    {
     "name": "stdout",
     "output_type": "stream",
     "text": [
      "AGG -> GGG\n",
      "CAG -> AGG,AGG\n",
      "GAG -> AGG\n",
      "GGA -> GAG\n",
      "GGG -> GGG,GGA\n"
     ]
    }
   ],
   "source": [
    "def debruijn(patterns):\n",
    "    result = {}\n",
    "    for i in patterns:\n",
    "        if i[:-1] not in result.keys():\n",
    "            result[i[:-1]] = i[1:]\n",
    "        else:\n",
    "            result[i[:-1]] += ','+ i[1:]\n",
    "    return result\n",
    "\n",
    "if __name__ == '__main__':\n",
    "    with open('rosalind_ba3e.txt', 'r') as f:\n",
    "        p = [line.strip() for line in f.readlines()]\n",
    "\n",
    "\n",
    "    res = debruijn(p)\n",
    "    for i in sorted(res.keys()):\n",
    "            print(i+' -> '+res[i])\n",
    "\n",
    "    ''' \n",
    "    GAGG\n",
    "    CAGG\n",
    "    GGGG\n",
    "    GGGA\n",
    "    CAGG\n",
    "    AGGG\n",
    "    GGAG\n",
    "    '''"
   ]
  },
  {
   "cell_type": "markdown",
   "metadata": {},
   "source": [
    "__BA3G Find an Eulerian Path in a Graph__"
   ]
  },
  {
   "cell_type": "code",
   "execution_count": 69,
   "metadata": {},
   "outputs": [
    {
     "name": "stdout",
     "output_type": "stream",
     "text": [
      "6->7->8->9->6->3->0->2->1->3->5->4"
     ]
    }
   ],
   "source": [
    "from collections import defaultdict\n",
    "\n",
    "def find_eulerian_path(graph):\n",
    "    in_degree = defaultdict(int)\n",
    "    out_degree = defaultdict(int)\n",
    "    for node in graph:\n",
    "        out_degree[node] = len(graph[node])\n",
    "        for neighbor in graph[node]:\n",
    "            in_degree[neighbor] += 1\n",
    " \n",
    "    start_node = None\n",
    "    end_node = None\n",
    " \n",
    "    for node in graph:\n",
    "        if in_degree[node] + 1 == out_degree[node]:\n",
    "            start_node = node\n",
    "        if out_degree[node] + 1 == in_degree[node]:\n",
    "            end_node = node\n",
    " \n",
    "    if not start_node:\n",
    "       # start_node = next(iter(graph))\n",
    "       start_node = graph[0]\n",
    " \n",
    "    \n",
    " \n",
    "    def visit(node):\n",
    "        while graph[node]:\n",
    "            visit(graph[node].pop())\n",
    "        path.append(node)\n",
    " \n",
    "    path = []\n",
    "    visit(start_node)\n",
    " \n",
    "    return path[::-1]\n",
    "\n",
    "graph ={0:[2],\n",
    "1:[3],\n",
    "2:[1,5],\n",
    "3:[0,4],\n",
    "4:[],\n",
    "5:[],\n",
    "6:[3,7],\n",
    "7:[8],\n",
    "8:[9],\n",
    "9:[6]\n",
    "}\n",
    " \n",
    "# Find the Eulerian path\n",
    "eulerian_path = find_eulerian_path(graph)\n",
    "for i in range(len(eulerian_path)):\n",
    "    print(eulerian_path[i],end='')\n",
    "    if(i+1!=(len(eulerian_path))):\n",
    "        print(\"->\",end='')"
   ]
  }
 ],
 "metadata": {
  "kernelspec": {
   "display_name": "Python 3",
   "language": "python",
   "name": "python3"
  },
  "language_info": {
   "codemirror_mode": {
    "name": "ipython",
    "version": 3
   },
   "file_extension": ".py",
   "mimetype": "text/x-python",
   "name": "python",
   "nbconvert_exporter": "python",
   "pygments_lexer": "ipython3",
   "version": "3.9.13"
  }
 },
 "nbformat": 4,
 "nbformat_minor": 2
}
