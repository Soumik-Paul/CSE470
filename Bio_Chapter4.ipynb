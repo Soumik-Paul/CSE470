{
 "cells": [
  {
   "cell_type": "markdown",
   "metadata": {},
   "source": [
    "__BA4A__ <br>\n",
    "__Translate an RNA String into an Amino Acid String__"
   ]
  },
  {
   "cell_type": "code",
   "execution_count": 4,
   "metadata": {},
   "outputs": [
    {
     "data": {
      "text/plain": [
       "'MAMAPRTEINSTRING'"
      ]
     },
     "execution_count": 4,
     "metadata": {},
     "output_type": "execute_result"
    }
   ],
   "source": [
    "def solve(rna):\n",
    "    amino_acids=\"FFLLSSSSYY..CC.WLLLLPPPPHHQQRRRRIIIMTTTTNNKKSSRRVVVVAAAADDEEGGGG\"\n",
    "    base=\"UCAG\"\n",
    "    rna_acids=[a+b+c for a in base for b in base for c in base]\n",
    "    codon=dict(zip(rna_acids,amino_acids))\n",
    "    ans=\"\"\n",
    "    for i in range(0,len(rna),3):\n",
    "        current=codon[rna[i:i+3]]\n",
    "        if(current!='.'):\n",
    "            ans+=current\n",
    "        else:\n",
    "            break\n",
    "    return ans\n",
    "\n",
    "solve(\"AUGGCCAUGGCGCCCAGAACUGAGAUCAAUAGUACCCGUAUUAACGGGUGA\")"
   ]
  },
  {
   "cell_type": "markdown",
   "metadata": {},
   "source": [
    "__BA4B__ <br>\n",
    "__Find Substrings of a Genome Encoding a Given Amino Acid String__"
   ]
  },
  {
   "cell_type": "code",
   "execution_count": 8,
   "metadata": {},
   "outputs": [
    {
     "name": "stdout",
     "output_type": "stream",
     "text": [
      "ATGGCC\n",
      "GGCCAT\n",
      "ATGGCC\n"
     ]
    }
   ],
   "source": [
    "default_rna=[a+b+c  for  a in \"UCAG\" for b in \"UCAG\" for c in \"UCAG\"]\n",
    "default_amino_acid=\"FFLLSSSSYY..CC.WLLLLPPPPHHQQRRRRIIIMTTTTNNKKSSRRVVVVAAAADDEEGGGG\"\n",
    "codon=dict(zip(default_rna,default_amino_acid))\n",
    "\n",
    "def dna2rn(dna):\n",
    "    return dna.replace('T','U')\n",
    "\n",
    "def reverse_complement_rna(dna):\n",
    "    dict={'A':'U','T':'A','G':'C','C':'G'}\n",
    "    return ''.join([dict[x] for x in reversed(dna)])\n",
    "\n",
    "def get_amino(rna):\n",
    "    ans=\"\"\n",
    "    for i in range(0,len(rna),3):\n",
    "        if codon[rna[i:i+3]]=='.':\n",
    "            break\n",
    "        else:\n",
    "            ans+=codon[rna[i:i+3]]\n",
    "        \n",
    "    return ans\n",
    "def genom_encoding(dna,amino_acid):\n",
    "    ln=len(amino_acid)*3\n",
    "    mylist=[]\n",
    "    for i in range(len(dna)-ln+1):\n",
    "        kmer=dna[i:i+ln]\n",
    "        rna1=dna2rn(kmer)\n",
    "        rna2=reverse_complement_rna(kmer)\n",
    "        \n",
    "        if get_amino(rna1)==amino_acid or get_amino(rna2)==amino_acid:\n",
    "            mylist.append(kmer)\n",
    "    for i in mylist:\n",
    "        print(i,end=\"\\n\")\n",
    "\n",
    "\n",
    "dna=\"ATGGCCATGGCCCCCAGAACTGAGATCAATAGTACCCGTATTAACGGGTGA\"\n",
    "amino_acid=\"MA\"\n",
    "genom_encoding(dna,amino_acid)"
   ]
  },
  {
   "cell_type": "markdown",
   "metadata": {},
   "source": [
    "__BA4C__ <br>\n",
    "__Generate the Theoretical Spectrum of a Cyclic Peptide__"
   ]
  },
  {
   "cell_type": "code",
   "execution_count": 18,
   "metadata": {},
   "outputs": [
    {
     "name": "stdout",
     "output_type": "stream",
     "text": [
      "0 113 114 128 129 227 242 242 257 355 356 370 371 484 "
     ]
    }
   ],
   "source": [
    "mass_table = {'A': 71, 'C': 103, 'E': 129, 'D': 115, 'G': 57, 'F': 147, 'I': 113,\n",
    "'H': 137, 'K': 128, 'M': 131,'L': 113, 'N': 114, 'Q': 128, 'P': 97, 'S': 87,\n",
    "'R': 156, 'T': 101, 'W': 186, 'V': 99, 'Y': 163, 'W': 186}\n",
    "\n",
    "def cyclo(peptide):\n",
    "    mylist=[]\n",
    "    mylist.append(0)\n",
    "    ln=len(peptide)\n",
    "    sum=0\n",
    "    for i in peptide:\n",
    "        sum+=mass_table[i]\n",
    "\n",
    "    mylist.append(sum)\n",
    "\n",
    "    peptide=peptide+peptide\n",
    "    k=1\n",
    "    \n",
    "    while(k<ln):\n",
    "        for i in range(ln):\n",
    "            current=peptide[i:i+k]    \n",
    "            sum=0\n",
    "            for j in current:\n",
    "                sum+=mass_table[j]\n",
    "            mylist.append(sum)\n",
    "        k+=1\n",
    "    #print(len(mylist))\n",
    "    for i in sorted(mylist):\n",
    "        print(i,end=\" \")\n",
    "\n",
    "cyclo(\"LEQN\")"
   ]
  },
  {
   "cell_type": "markdown",
   "metadata": {},
   "source": [
    "__BA4D__ <br>\n",
    "__Compute the Number of Peptides of Given Total Mass__"
   ]
  },
  {
   "cell_type": "code",
   "execution_count": 10,
   "metadata": {},
   "outputs": [
    {
     "name": "stdout",
     "output_type": "stream",
     "text": [
      "2\n"
     ]
    }
   ],
   "source": [
    "MASSES=[57, 71, 87, 97, 99, 101, 103, 113, 114, 115, 128, 129, 131, 137, 147, 156, 163, 186]\n",
    "\n",
    "def CountPeptides(m):\n",
    "    ans={}\n",
    "    for i in range(57):\n",
    "        ans[i] = 0\n",
    "   \n",
    "    for i in range(57, m + 1):\n",
    "        ans[i] = MASSES.count(i)\n",
    "        for j in MASSES:\n",
    "            if i >= j and ans[i - j] > 0:\n",
    "                    ans[i] += ans[i - j]\n",
    "\n",
    "    return ans[m]\n",
    "\n",
    "given_mass=114\n",
    "print(CountPeptides(given_mass))"
   ]
  },
  {
   "cell_type": "markdown",
   "metadata": {},
   "source": [
    "__BA4F__ <br>\n",
    "__Compute the Score of a Cyclic Peptide Against a Spectrum__"
   ]
  },
  {
   "cell_type": "code",
   "execution_count": 53,
   "metadata": {},
   "outputs": [
    {
     "name": "stdout",
     "output_type": "stream",
     "text": [
      "11\n"
     ]
    }
   ],
   "source": [
    "mass_table = {'A': 71, 'C': 103, 'E': 129, 'D': 115, 'G': 57, 'F': 147, 'I': 113,\n",
    "'H': 137, 'K': 128, 'M': 131,'L': 113, 'N': 114, 'Q': 128, 'P': 97, 'S': 87,\n",
    "'R': 156, 'T': 101, 'W': 186, 'V': 99, 'Y': 163, 'W': 186}\n",
    "\n",
    "def cyclo(peptide):\n",
    "    mylist=[]\n",
    "    mylist.append(0)\n",
    "    ln=len(peptide)\n",
    "    sum=0\n",
    "    for i in peptide:\n",
    "        sum+=mass_table[i]\n",
    "\n",
    "    mylist.append(sum)\n",
    "\n",
    "    peptide=peptide+peptide\n",
    "    k=1\n",
    "    \n",
    "    while(k<ln):\n",
    "        for i in range(ln):\n",
    "            current=peptide[i:i+k]    \n",
    "            sum=0\n",
    "            for j in current:\n",
    "                sum+=mass_table[j]\n",
    "            mylist.append(sum)\n",
    "        k+=1\n",
    "    return(mylist)\n",
    "\n",
    "def score(peptide, spectrum):\n",
    "    pep_spec = cyclo(peptide)\n",
    "    result = 0\n",
    "    unique_masses = set(pep_spec + spectrum)\n",
    "    for mass in unique_masses:\n",
    "        result += min(pep_spec.count(mass), spectrum.count(mass))\n",
    "    return result\n",
    "\n",
    "Peptide = \"NQEL\"\n",
    "Spectrum = \"0 99 113 114 128 227 257 299 355 356 370 371 484\"\n",
    "Spectrum= [int(i) for i in Spectrum.split(' ')]\n",
    "print(score(Peptide, Spectrum))"
   ]
  },
  {
   "cell_type": "markdown",
   "metadata": {},
   "source": [
    "__BA4H__ <br>\n",
    "__Generate the Convolution of a Spectrum__"
   ]
  },
  {
   "cell_type": "code",
   "execution_count": 56,
   "metadata": {},
   "outputs": [
    {
     "name": "stdout",
     "output_type": "stream",
     "text": [
      "137 137 186 186 323 49 "
     ]
    }
   ],
   "source": [
    "from collections import defaultdict\n",
    "\n",
    "import operator\n",
    "def solve(mass):\n",
    "    mass=sorted(mass)\n",
    "    result=defaultdict(int)\n",
    "    for i in range(len(mass)-1):\n",
    "        for j in range(len(mass)):\n",
    "            if mass[j] > mass [i]:\n",
    "                result[mass[j]-mass[i]]+=1\n",
    "    result = dict(sorted(result.items(), key=lambda x: x[1], reverse=True))\n",
    "    for val in result:\n",
    "        while(result[val]):\n",
    "            print(val,end=' ')\n",
    "            result[val]-=1\n",
    "\n",
    "\n",
    "mass = \"0 137 186 323\"\n",
    "mass=[int(i) for i in mass.split(' ')]\n",
    "solve(mass)"
   ]
  }
 ],
 "metadata": {
  "kernelspec": {
   "display_name": "Python 3",
   "language": "python",
   "name": "python3"
  },
  "language_info": {
   "codemirror_mode": {
    "name": "ipython",
    "version": 3
   },
   "file_extension": ".py",
   "mimetype": "text/x-python",
   "name": "python",
   "nbconvert_exporter": "python",
   "pygments_lexer": "ipython3",
   "version": "3.9.13"
  }
 },
 "nbformat": 4,
 "nbformat_minor": 2
}
