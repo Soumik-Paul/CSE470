{
 "cells": [
  {
   "cell_type": "markdown",
   "metadata": {},
   "source": [
    "BA5A,BA5C,BA5D,BA5E,BA5F,BA5H"
   ]
  },
  {
   "cell_type": "markdown",
   "metadata": {},
   "source": [
    "__BA5A Find the Minimum Number of Coins Needed to Make Change__"
   ]
  },
  {
   "cell_type": "code",
   "execution_count": 2,
   "metadata": {},
   "outputs": [
    {
     "name": "stdout",
     "output_type": "stream",
     "text": [
      "2\n"
     ]
    }
   ],
   "source": [
    "def dp_change(money, coins):\n",
    "    ans = [0]\n",
    "    for i in range(1, money + 1):\n",
    "        ans.append(money + 1)\n",
    "        for coin in coins:\n",
    "            if i >= coin:                  \n",
    "                ans[i] = min(ans[i], ans[i-coin]+ 1 )\n",
    " \n",
    "    return ans[money]\n",
    "\n",
    "\n",
    "total=40\n",
    "COINS=[1,5,10,20,25,50]\n",
    "print(dp_change(total,COINS))"
   ]
  },
  {
   "cell_type": "markdown",
   "metadata": {},
   "source": [
    "__BA5C Find a Longest Common Subsequence of Two Strings__"
   ]
  },
  {
   "cell_type": "code",
   "execution_count": 1,
   "metadata": {},
   "outputs": [
    {
     "name": "stdout",
     "output_type": "stream",
     "text": [
      "Length of LCS: 6\n",
      "LCS: ACCTGG\n"
     ]
    }
   ],
   "source": [
    "def lcs(X, Y):\n",
    "    m = len(X)\n",
    "    n = len(Y)\n",
    "\n",
    "    # Create a table to store results of subproblems\n",
    "    dp = [[0] * (n + 1) for _ in range(m + 1)]\n",
    "\n",
    "    for i in range(1, m + 1):\n",
    "        for j in range(1, n + 1):\n",
    "            if X[i - 1] == Y[j - 1]:\n",
    "                dp[i][j] = dp[i - 1][j - 1] + 1\n",
    "            else:\n",
    "                dp[i][j] = max(dp[i - 1][j], dp[i][j - 1])\n",
    "    lcs_length = dp[m][n]\n",
    "\n",
    "    # Reconstruct the LCS\n",
    "    lcs_sequence = []\n",
    "    i, j = m, n\n",
    "    while i > 0 and j > 0:\n",
    "        if X[i - 1] == Y[j - 1]:\n",
    "            lcs_sequence.append(X[i - 1])\n",
    "            i -= 1\n",
    "            j -= 1\n",
    "        elif dp[i - 1][j] > dp[i][j - 1]:\n",
    "            i -= 1\n",
    "        else:\n",
    "            j -= 1\n",
    "\n",
    "    # Reverse the LCS sequence to get the correct order\n",
    "    lcs_sequence.reverse()\n",
    "\n",
    "    return lcs_length, lcs_sequence\n",
    "\n",
    "x=\"AACCTTGG\"\n",
    "y=\"ACACTGTGA\"\n",
    "\n",
    "length, sequence = lcs(x,y)\n",
    "print(\"Length of LCS:\", length)\n",
    "print(\"LCS:\", ''.join(sequence))\n"
   ]
  },
  {
   "cell_type": "markdown",
   "metadata": {},
   "source": [
    "__Print all LCS__"
   ]
  },
  {
   "cell_type": "code",
   "execution_count": 9,
   "metadata": {},
   "outputs": [
    {
     "name": "stdout",
     "output_type": "stream",
     "text": [
      "All Longest Common Subsequences:\n",
      "AACTTG\n",
      "ACCTTG\n",
      "AACTTG\n",
      "ACCTTG\n",
      "AACTGG\n",
      "ACCTGG\n"
     ]
    }
   ],
   "source": [
    "def find_all_lcs(X, Y):\n",
    "    m, n = len(X), len(Y)\n",
    "\n",
    "    # Create a table to store lengths of LCS\n",
    "    dp = [[0] * (n + 1) for _ in range(m + 1)]\n",
    "\n",
    "    # Build the dp table in a bottom-up fashion\n",
    "    for i in range(1, m + 1):\n",
    "        for j in range(1, n + 1):\n",
    "            if X[i - 1] == Y[j - 1]:\n",
    "                dp[i][j] = dp[i - 1][j - 1] + 1\n",
    "            else:\n",
    "                dp[i][j] = max(dp[i - 1][j], dp[i][j - 1])\n",
    "\n",
    "    # Function to generate all LCS using the dp table\n",
    "    def generate_lcs(i, j):\n",
    "        if i == 0 or j == 0:\n",
    "            return ['']\n",
    "        elif X[i - 1] == Y[j - 1]:\n",
    "            return [seq + X[i - 1] for seq in generate_lcs(i - 1, j - 1)]\n",
    "        else:\n",
    "            lcs_list = []\n",
    "            if dp[i - 1][j] >= dp[i][j - 1]:\n",
    "                lcs_list.extend(generate_lcs(i - 1, j))\n",
    "            if dp[i][j - 1] >= dp[i - 1][j]:\n",
    "                lcs_list.extend(generate_lcs(i, j - 1))\n",
    "\n",
    "        return lcs_list\n",
    "\n",
    "    # Generate all LCS\n",
    "    return generate_lcs(m, n)\n",
    "\n",
    "# Example usage\n",
    "X = \"AACCTTGG\"\n",
    "Y = \"ACACTGTGA\"\n",
    "result = find_all_lcs(X, Y)\n",
    "print(\"All Longest Common Subsequences:\")\n",
    "for lcs in result:\n",
    "    print(lcs)\n"
   ]
  }
 ],
 "metadata": {
  "kernelspec": {
   "display_name": "Python 3",
   "language": "python",
   "name": "python3"
  },
  "language_info": {
   "codemirror_mode": {
    "name": "ipython",
    "version": 3
   },
   "file_extension": ".py",
   "mimetype": "text/x-python",
   "name": "python",
   "nbconvert_exporter": "python",
   "pygments_lexer": "ipython3",
   "version": "3.9.13"
  }
 },
 "nbformat": 4,
 "nbformat_minor": 2
}
