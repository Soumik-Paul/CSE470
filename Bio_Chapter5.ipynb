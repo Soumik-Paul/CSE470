{
 "cells": [
  {
   "cell_type": "markdown",
   "metadata": {},
   "source": [
    "BA5A,BA5C,BA5D,BA5E,BA5F,BA5H"
   ]
  },
  {
   "cell_type": "markdown",
   "metadata": {},
   "source": [
    "__BA5A Find the Minimum Number of Coins Needed to Make Change__"
   ]
  },
  {
   "cell_type": "code",
   "execution_count": 3,
   "metadata": {},
   "outputs": [
    {
     "name": "stdout",
     "output_type": "stream",
     "text": [
      "2\n"
     ]
    }
   ],
   "source": [
    "def dp_change(money, coins):\n",
    "    ans = [0]\n",
    "    for i in range(1, money + 1):\n",
    "        ans.append(money + 1)\n",
    "        for coin in coins:\n",
    "            if i >= coin:                  \n",
    "                ans[i] = min(ans[i], ans[i-coin]+ 1 )\n",
    " \n",
    "    return ans[money]\n",
    "\n",
    "\n",
    "total=40\n",
    "COINS=[1,5,10,20,25,50]\n",
    "print(dp_change(total,COINS))"
   ]
  },
  {
   "cell_type": "markdown",
   "metadata": {},
   "source": [
    "__BA5C Find a Longest Common Subsequence of Two Strings__"
   ]
  },
  {
   "cell_type": "code",
   "execution_count": 9,
   "metadata": {},
   "outputs": [
    {
     "name": "stdout",
     "output_type": "stream",
     "text": [
      "Length of LCS: 6\n",
      "LCS: ACCTGG\n"
     ]
    }
   ],
   "source": [
    "def lcs(X, Y):\n",
    "    m = len(X)\n",
    "    n = len(Y)\n",
    "\n",
    "    # Create a table to store results of subproblems\n",
    "    dp = [[0] * (n + 1) for _ in range(m + 1)]\n",
    "\n",
    "    for i in range(1, m + 1):\n",
    "        for j in range(1, n + 1):\n",
    "            if X[i - 1] == Y[j - 1]:\n",
    "                dp[i][j] = dp[i - 1][j - 1] + 1\n",
    "            else:\n",
    "                dp[i][j] = max(dp[i - 1][j], dp[i][j - 1])\n",
    "    lcs_length = dp[m][n]\n",
    "\n",
    "    # Reconstruct the LCS\n",
    "    lcs_sequence = []\n",
    "    i, j = m, n\n",
    "    while i > 0 and j > 0:\n",
    "        if X[i - 1] == Y[j - 1]:\n",
    "            lcs_sequence.append(X[i - 1])\n",
    "            i -= 1\n",
    "            j -= 1\n",
    "        elif dp[i - 1][j] > dp[i][j - 1]:\n",
    "            i -= 1\n",
    "        else:\n",
    "            j -= 1\n",
    "\n",
    "    # Reverse the LCS sequence to get the correct order\n",
    "    lcs_sequence= lcs_sequence[::-1]\n",
    "\n",
    "    return lcs_length, lcs_sequence\n",
    "\n",
    "x=\"AACCTTGG\"\n",
    "y=\"ACACTGTGA\"\n",
    "\n",
    "length, sequence = lcs(x,y)\n",
    "print(\"Length of LCS:\", length)\n",
    "print(\"LCS:\", ''.join(sequence))\n"
   ]
  },
  {
   "cell_type": "markdown",
   "metadata": {},
   "source": [
    "__Print all LCS__"
   ]
  },
  {
   "cell_type": "code",
   "execution_count": 5,
   "metadata": {},
   "outputs": [
    {
     "name": "stdout",
     "output_type": "stream",
     "text": [
      "All Longest Common Subsequences:\n",
      "AACTTG\n",
      "ACCTTG\n",
      "AACTTG\n",
      "ACCTTG\n",
      "AACTGG\n",
      "ACCTGG\n"
     ]
    }
   ],
   "source": [
    "def find_all_lcs(X, Y):\n",
    "    m, n = len(X), len(Y)\n",
    "\n",
    "    # Create a table to store lengths of LCS\n",
    "    dp = [[0] * (n + 1) for _ in range(m + 1)]\n",
    "\n",
    "    # Build the dp table in a bottom-up fashion\n",
    "    for i in range(1, m + 1):\n",
    "        for j in range(1, n + 1):\n",
    "            if X[i - 1] == Y[j - 1]:\n",
    "                dp[i][j] = dp[i - 1][j - 1] + 1\n",
    "            else:\n",
    "                dp[i][j] = max(dp[i - 1][j], dp[i][j - 1])\n",
    "\n",
    "    # Function to generate all LCS using the dp table\n",
    "    def generate_lcs(i, j):\n",
    "        \n",
    "        if i == 0 or j == 0:\n",
    "            return ['']\n",
    "        elif X[i - 1] == Y[j - 1]:\n",
    "            return [seq + X[i - 1] for seq in generate_lcs(i - 1, j - 1)]\n",
    "        else:\n",
    "            lcs_list = []\n",
    "            if dp[i - 1][j] >= dp[i][j - 1]:\n",
    "                lcs_list.extend(generate_lcs(i - 1, j))\n",
    "            if dp[i][j - 1] >= dp[i - 1][j]:\n",
    "                lcs_list.extend(generate_lcs(i, j - 1))\n",
    "\n",
    "        return lcs_list\n",
    "\n",
    "    # Generate all LCS\n",
    "    return generate_lcs(m, n)\n",
    "\n",
    "# Example usage\n",
    "X = \"AACCTTGG\"\n",
    "Y = \"ACACTGTGA\"\n",
    "result = find_all_lcs(X, Y)\n",
    "print(\"All Longest Common Subsequences:\")\n",
    "for lcs in result:\n",
    "    print(lcs)\n"
   ]
  },
  {
   "cell_type": "markdown",
   "metadata": {},
   "source": [
    "__BA5D__ <br>\n",
    "__Find the Longest Path in a DAG__\n",
    "\n",
    "```\n",
    "Sample Dataset\n",
    "0\n",
    "4\n",
    "0->1:7\n",
    "0->2:4\n",
    "2->3:2\n",
    "1->4:1\n",
    "3->4:3\n",
    "Sample Output\n",
    "9\n",
    "0->2->3->4"
   ]
  },
  {
   "cell_type": "code",
   "execution_count": 6,
   "metadata": {},
   "outputs": [
    {
     "ename": "FileNotFoundError",
     "evalue": "[Errno 2] No such file or directory: 'G:/bio_lab/BIOLAB/5(d).txt'",
     "output_type": "error",
     "traceback": [
      "\u001b[1;31m---------------------------------------------------------------------------\u001b[0m",
      "\u001b[1;31mFileNotFoundError\u001b[0m                         Traceback (most recent call last)",
      "\u001b[1;32m~\\AppData\\Local\\Temp\\ipykernel_13860\\3024781994.py\u001b[0m in \u001b[0;36m<module>\u001b[1;34m\u001b[0m\n\u001b[0;32m      1\u001b[0m \u001b[1;32mfrom\u001b[0m \u001b[0mcollections\u001b[0m \u001b[1;32mimport\u001b[0m \u001b[0mdefaultdict\u001b[0m\u001b[1;33m\u001b[0m\u001b[1;33m\u001b[0m\u001b[0m\n\u001b[0;32m      2\u001b[0m \u001b[1;33m\u001b[0m\u001b[0m\n\u001b[1;32m----> 3\u001b[1;33m \u001b[1;32mwith\u001b[0m \u001b[0mopen\u001b[0m\u001b[1;33m(\u001b[0m\u001b[1;34m\"G:/bio_lab/BIOLAB/5(d).txt\"\u001b[0m\u001b[1;33m)\u001b[0m \u001b[1;32mas\u001b[0m \u001b[0mfile\u001b[0m\u001b[1;33m:\u001b[0m\u001b[1;33m\u001b[0m\u001b[1;33m\u001b[0m\u001b[0m\n\u001b[0m\u001b[0;32m      4\u001b[0m     \u001b[0mstart\u001b[0m\u001b[1;33m=\u001b[0m\u001b[0mint\u001b[0m\u001b[1;33m(\u001b[0m\u001b[0mfile\u001b[0m\u001b[1;33m.\u001b[0m\u001b[0mreadline\u001b[0m\u001b[1;33m(\u001b[0m\u001b[1;33m)\u001b[0m\u001b[1;33m.\u001b[0m\u001b[0mstrip\u001b[0m\u001b[1;33m(\u001b[0m\u001b[1;33m)\u001b[0m\u001b[1;33m)\u001b[0m\u001b[1;33m\u001b[0m\u001b[1;33m\u001b[0m\u001b[0m\n\u001b[0;32m      5\u001b[0m     \u001b[0mend\u001b[0m\u001b[1;33m=\u001b[0m\u001b[0mint\u001b[0m\u001b[1;33m(\u001b[0m\u001b[0mfile\u001b[0m\u001b[1;33m.\u001b[0m\u001b[0mreadline\u001b[0m\u001b[1;33m(\u001b[0m\u001b[1;33m)\u001b[0m\u001b[1;33m.\u001b[0m\u001b[0mstrip\u001b[0m\u001b[1;33m(\u001b[0m\u001b[1;33m)\u001b[0m\u001b[1;33m)\u001b[0m\u001b[1;33m\u001b[0m\u001b[1;33m\u001b[0m\u001b[0m\n",
      "\u001b[1;31mFileNotFoundError\u001b[0m: [Errno 2] No such file or directory: 'G:/bio_lab/BIOLAB/5(d).txt'"
     ]
    }
   ],
   "source": [
    "from collections import defaultdict\n",
    "\n",
    "with open(\"G:/bio_lab/BIOLAB/5(d).txt\") as file:\n",
    "    start=int(file.readline().strip())\n",
    "    end=int(file.readline().strip())\n",
    "\n",
    "    edges=[[] for p in range(50)]\n",
    "    weight=[[int(0) for p in range(5)] for q in range(5)]\n",
    "    \n",
    "    for line in file:\n",
    "        line=line.strip().split('->')\n",
    "        a=int(line[0])\n",
    "        lineline=line[1].split(':')\n",
    "        b=int(lineline[0])\n",
    "        c=int(lineline[1])\n",
    "\n",
    "        edges[a].append(b)\n",
    "        weight[a][b]=c\n",
    "\n",
    "c=[int(0) for p in range(5)]\n",
    "path=['' for p in range(5)]\n",
    "\n",
    "def dfs(node,cost,pa):\n",
    "    for x in edges[node]:\n",
    "        if(cost+weight[node][x] > c[x]):\n",
    "            c[x]=cost+weight[node][x]\n",
    "            path[x]=pa+str(x)+'.'\n",
    "        if x==end:\n",
    "            return\n",
    "        dfs(x,c[x],path[x])\n",
    "\n",
    "dfs(start,0,str(start)+'->')\n",
    "print(c[end])\n",
    "ans=path[end].replace('.','->')\n",
    "print(ans[:-2])"
   ]
  },
  {
   "cell_type": "markdown",
   "metadata": {},
   "source": [
    "__BA5E__ <br>\n",
    "__Find a Highest-Scoring Alignment of Two Strings__\n",
    "\n",
    "```\n",
    "Sample Dataset\n",
    "PLEASANTLY\n",
    "MEANLY\n",
    "\n",
    "Sample Output\n",
    "8\n",
    "PLEASANTLY\n",
    "-MEA--N-LY\n",
    "```\n"
   ]
  },
  {
   "cell_type": "code",
   "execution_count": null,
   "metadata": {},
   "outputs": [
    {
     "name": "stdout",
     "output_type": "stream",
     "text": [
      "8.0\n",
      "PLEASANTLY\n",
      "-ME--AN-LY\n"
     ]
    }
   ],
   "source": [
    "from Bio.Align import substitution_matrices\n",
    "from Bio import pairwise2\n",
    "score=substitution_matrices.load(\"BLOSUM62\")\n",
    "\n",
    "\n",
    "\n",
    "first = \"PLEASANTLY\"\n",
    "second= \"MEANLY\"\n",
    "\n",
    "alignments=pairwise2.align.globalds(first,second,score,-5,-5)\n",
    "best=max(alignments,key=lambda x:x.score)\n",
    "\n",
    "print(best.score)\n",
    "print(best.seqA)\n",
    "print(best.seqB)"
   ]
  },
  {
   "cell_type": "markdown",
   "metadata": {},
   "source": [
    "__BA5F__ <br>\n",
    "__Find a Highest-Scoring Local Alignment of Two Strings__\n",
    "\n",
    "\n",
    "```\n",
    "Sample Dataset\n",
    "MEANLY\n",
    "PENALTY\n",
    "\n",
    "Sample Output\n",
    "15\n",
    "EANL-Y\n",
    "ENALTY\n",
    "```"
   ]
  },
  {
   "cell_type": "markdown",
   "metadata": {},
   "source": []
  },
  {
   "cell_type": "code",
   "execution_count": 7,
   "metadata": {},
   "outputs": [
    {
     "name": "stdout",
     "output_type": "stream",
     "text": [
      "15.0\n",
      "MEANL-Y\n",
      "PENALTY\n"
     ]
    }
   ],
   "source": [
    "from Bio.Align import substitution_matrices\n",
    "from Bio import pairwise2\n",
    "score=substitution_matrices.load(\"PAM250\")\n",
    "\n",
    "\n",
    "first=\"MEANLY\"\n",
    "second=\"PENALTY\"\n",
    "alignments=pairwise2.align.localds(first,second,score,-5,-5)\n",
    "best=max(alignments,key=lambda x:x.score)\n",
    "print(best.score)\n",
    "print(best.seqA)\n",
    "print(best.seqB)"
   ]
  },
  {
   "cell_type": "markdown",
   "metadata": {},
   "source": [
    "__BA5G__ <br>\n",
    "__Compute the Edit Distance Between Two Strings__\n",
    "\n",
    "```\n",
    "Sample Dataset\n",
    "PLEASANTLY\n",
    "MEANLY\n",
    "\n",
    "Sample Output\n",
    "5\n",
    "```"
   ]
  },
  {
   "cell_type": "code",
   "execution_count": 12,
   "metadata": {},
   "outputs": [
    {
     "name": "stdout",
     "output_type": "stream",
     "text": [
      "5\n"
     ]
    }
   ],
   "source": [
    "\n",
    "first=\"PLEASANTLY\"\n",
    "second=\"MEANLY\"\n",
    "\n",
    "n=len(first)\n",
    "m=len(second)\n",
    "\n",
    "dp=[[0] * (n+m) for q in range(m+n)]\n",
    "\n",
    "for i in range(1,m+1):\n",
    "    dp[0][i]=i\n",
    "for i in range(1,n+1):\n",
    "    dp[i][0]=i\n",
    "\n",
    "for i in range(1,n+1):\n",
    "    for j in range(1,m+1):\n",
    "\n",
    "        dp[i][j]=float('inf')\n",
    "        if first[i-1]==second[j-1]:\n",
    "            dp[i][j]=dp[i-1][j-1]\n",
    "        \n",
    "        dp[i][j]=min(dp[i][j] ,1+min(dp[i-1][j-1],min(dp[i][j-1],dp[i-1][j])))\n",
    "\n",
    "print(dp[n][m])"
   ]
  }
 ],
 "metadata": {
  "kernelspec": {
   "display_name": "Python 3",
   "language": "python",
   "name": "python3"
  },
  "language_info": {
   "codemirror_mode": {
    "name": "ipython",
    "version": 3
   },
   "file_extension": ".py",
   "mimetype": "text/x-python",
   "name": "python",
   "nbconvert_exporter": "python",
   "pygments_lexer": "ipython3",
   "version": "3.9.13"
  }
 },
 "nbformat": 4,
 "nbformat_minor": 2
}
