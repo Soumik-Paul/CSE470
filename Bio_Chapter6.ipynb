{
 "cells": [
  {
   "cell_type": "code",
   "execution_count": null,
   "metadata": {},
   "outputs": [],
   "source": []
  },
  {
   "cell_type": "markdown",
   "metadata": {},
   "source": [
    "6A"
   ]
  },
  {
   "cell_type": "code",
   "execution_count": 13,
   "metadata": {},
   "outputs": [
    {
     "name": "stdout",
     "output_type": "stream",
     "text": [
      "(-1 -4 +3 +5 -2)\n",
      "(+1 -4 +3 +5 -2)\n",
      "(+1 +2 -5 -3 +4)\n",
      "(+1 +2 +3 +5 +4)\n",
      "(+1 +2 +3 -4 -5)\n",
      "(+1 +2 +3 +4 -5)\n",
      "(+1 +2 +3 +4 +5)\n"
     ]
    }
   ],
   "source": [
    "def printAll(arr, flg = 0):\n",
    "  s = '('\n",
    "  for x in arr:\n",
    "    if(x > 0):\n",
    "      s += '+'\n",
    "    s += str(x)\n",
    "    s += ' '\n",
    "  s = s.strip()\n",
    "  s += ')'\n",
    "  if(flg):\n",
    "    print(s, end = '')\n",
    "  else:\n",
    "    print(s)\n",
    "\n",
    "\n",
    "\n",
    "arr=[-3, 4, 1, 5, -2]\n",
    "lft = 1\n",
    "n = len(arr)\n",
    "i = 0\n",
    "while(i < n):\n",
    "  if(arr[i] == i + 1 and lft == i + 1):\n",
    "    lft += 1\n",
    "    i += 1\n",
    "    continue\n",
    "  if(arr[i] == - i - 1 and lft == i + 1):\n",
    "    arr[i] = - arr[i]\n",
    "    lft += 1\n",
    "    i += 1\n",
    "    printAll(arr)\n",
    "    continue\n",
    "  if(arr[i] == lft or arr[i] == -lft):\n",
    "    arr = arr[ : lft - 1] + [x * -1 for x in reversed(arr[lft - 1 : i + 1])] + arr[i + 1:]\n",
    "    i = lft - 1\n",
    "    printAll(arr)\n",
    "  else:\n",
    "    i += 1"
   ]
  },
  {
   "cell_type": "code",
   "execution_count": 14,
   "metadata": {},
   "outputs": [
    {
     "name": "stdout",
     "output_type": "stream",
     "text": [
      "(-1 -4 +3 +5 -2)\n",
      "(+1 -4 +3 +5 -2)\n",
      "(+1 +2 -5 -3 +4)\n",
      "(+1 +2 +3 +5 +4)\n",
      "(+1 +2 +3 -4 -5)\n",
      "(+1 +2 +3 +4 -5)\n",
      "(+1 +2 +3 +4 +5)\n"
     ]
    }
   ],
   "source": [
    "def print_koro(arr):\n",
    "    s= '('\n",
    "    for x in arr:\n",
    "        if(x>0):\n",
    "            s+='+'\n",
    "        s+= str(x)\n",
    "        s+=' '\n",
    "    s= s.strip()\n",
    "    s+=')'\n",
    "    print(s)\n",
    "\n",
    "a=[-3, 4, 1, 5, -2]\n",
    "n = len(a)\n",
    "i=0\n",
    "l=1\n",
    "while(i<n):\n",
    "    if(a[i]==i+1 and l == i+1):\n",
    "        i+=1\n",
    "        l+=1\n",
    "    elif(a[i]== -i-1 and l == i+1):\n",
    "        a[i]= -a[i]\n",
    "        i+=1\n",
    "        l+=1\n",
    "        print_koro(a)\n",
    "    elif(a[i]==l or a[i]== -l):\n",
    "        a= a[:l-1] + [x* -1 for x in reversed(a[l-1:i+1])] + a[i+1:]\n",
    "        i= l -1\n",
    "        print_koro(a)\n",
    "    else:\n",
    "        i+=1\n",
    "\n",
    "\n",
    "\n",
    "\n",
    "\n",
    "\n",
    "#print_koro(arr)"
   ]
  },
  {
   "cell_type": "markdown",
   "metadata": {},
   "source": []
  },
  {
   "cell_type": "markdown",
   "metadata": {},
   "source": [
    "6B"
   ]
  },
  {
   "cell_type": "code",
   "execution_count": 15,
   "metadata": {},
   "outputs": [
    {
     "name": "stdout",
     "output_type": "stream",
     "text": [
      "8\n"
     ]
    }
   ],
   "source": [
    "def count_breakpoints(arr):\n",
    "  last = 1\n",
    "  cnt = 0\n",
    "  for i in arr:\n",
    "    if(i != last):\n",
    "      cnt += 1\n",
    "    last = i + 1\n",
    "  return cnt\n",
    "arr=[3, 4, 5, -12, -8, -7, -6, 1, 2, 10, 9, -11, 13, 14]\n",
    "print(count_breakpoints(arr))"
   ]
  },
  {
   "cell_type": "markdown",
   "metadata": {},
   "source": [
    "6E"
   ]
  },
  {
   "cell_type": "code",
   "execution_count": 10,
   "metadata": {},
   "outputs": [
    {
     "name": "stdout",
     "output_type": "stream",
     "text": [
      "(0,0)\n",
      "(0,4)\n",
      "(4,2)\n",
      "(6,6)\n"
     ]
    }
   ],
   "source": [
    "\n",
    "from Bio.Seq import Seq\n",
    "k=3\n",
    "first=\"AAACTCATC\"\n",
    "second=\"TTTCAAATC\"\n",
    "\n",
    "def solve(first,second,k):\n",
    "\n",
    "    for i in range(len(first)-k+1):\n",
    "        left=first[i:i+k]\n",
    "\n",
    "        for j in range(len(second)-k+1):\n",
    "            right=second[j:j+k]\n",
    "            \n",
    "            if(left==right) or (Seq(left).reverse_complement()==right):\n",
    "                print(\"(\"+str(i)+\",\"+str(j)+\")\")\n",
    "\n",
    "            \n",
    "solve(first,second,k)"
   ]
  },
  {
   "cell_type": "code",
   "execution_count": 52,
   "metadata": {},
   "outputs": [
    {
     "data": {
      "image/png": "[encoded data removed]",
      "text/plain": [
       "<Figure size 640x480 with 1 Axes>"
      ]
     },
     "metadata": {},
     "output_type": "display_data"
    }
   ],
   "source": [
    "import matplotlib.pyplot as plt\n",
    "\n",
    "plt.scatter(x,y)\n",
    "plt.show()"
   ]
  },
  {
   "cell_type": "markdown",
   "metadata": {},
   "source": [
    "__BA6F Implement ChromosomeToCycle__"
   ]
  },
  {
   "cell_type": "code",
   "execution_count": 27,
   "metadata": {},
   "outputs": [
    {
     "name": "stdout",
     "output_type": "stream",
     "text": [
      "1 2 4 3 6 5 7 8 "
     ]
    }
   ],
   "source": [
    "def cromosome_to_cycle(arr):\n",
    "  ans = []\n",
    "  for i in arr:\n",
    "    if(i > 0):\n",
    "      ans.append(i * 2 - 1)\n",
    "      ans.append(i * 2)\n",
    "    else:\n",
    "      i= -i\n",
    "      \n",
    "      ans.append(i * 2)\n",
    "      ans.append(i * 2 - 1)\n",
    "  return ans\n",
    "\n",
    "a= \"(+1 -2 -3 +4)\"\n",
    "arr = list(map(int,a.strip('()').split(' ')))\n",
    "\n",
    "ans = cromosome_to_cycle(arr)\n",
    "for i in ans:\n",
    "  print(i,end=' ')\n",
    "\n"
   ]
  },
  {
   "cell_type": "markdown",
   "metadata": {},
   "source": [
    "__BA6G Implement CycleToChromosome__"
   ]
  },
  {
   "cell_type": "code",
   "execution_count": 52,
   "metadata": {},
   "outputs": [
    {
     "name": "stdout",
     "output_type": "stream",
     "text": [
      "(+1 -2 -3 +4)\n"
     ]
    }
   ],
   "source": [
    "def print_all(arr):\n",
    "  s='('\n",
    "  for x in arr:\n",
    "    if(x>0):\n",
    "      s+= '+'\n",
    "    s+= str(x)\n",
    "    s+=' '\n",
    "  s= s.strip()\n",
    "  s+=')'\n",
    "  \n",
    "  print(s)\n",
    "\n",
    "def cycle_to_cromosome(arr):\n",
    "  n = len(arr)\n",
    "  i = 0\n",
    "  ans = []\n",
    "  while(i < n):\n",
    "    if(arr[i] < arr[i + 1]):\n",
    "      ans.append(arr[i+1] // 2)\n",
    "    else:\n",
    "      ans.append(0 - arr[i] // 2)\n",
    "    i += 2\n",
    "  return ans\n",
    "\n",
    "a = \"(1 2 4 3 6 5 7 8)\"\n",
    "arr = list(map(int,a.strip('()').split(' ')))\n",
    "print_all(cycle_to_cromosome(arr))"
   ]
  },
  {
   "cell_type": "markdown",
   "metadata": {},
   "source": [
    "__BA6H Implement ColoredEdges__"
   ]
  },
  {
   "cell_type": "code",
   "execution_count": 59,
   "metadata": {},
   "outputs": [
    {
     "name": "stdout",
     "output_type": "stream",
     "text": [
      "[[1, -2, -3], [4, 5, -6], [1, -2, -3], [4, 5, -6]]\n"
     ]
    }
   ],
   "source": [
    "\n",
    "\n",
    "a=\"(+1 -2 -3)(+4 +5 -6)\"\n",
    "lines= a.strip('').split(')(')\n",
    "for line in lines:\n",
    "    tmp = list(map(int, line.strip('() ').split(' ')))\n",
    "    arr.append(tmp)\n",
    "print(arr)"
   ]
  },
  {
   "cell_type": "code",
   "execution_count": 28,
   "metadata": {},
   "outputs": [
    {
     "name": "stdout",
     "output_type": "stream",
     "text": [
      "(2, 4), (3, 6), (5, 1), (8, 9), (10, 12), (11, 7)\n"
     ]
    }
   ],
   "source": [
    "ans = []\n",
    "arr= [[1, -2, -3], [4, 5, -6]]\n",
    "for cromosome in arr:\n",
    "  tmp = cromosome_to_cycle(cromosome)\n",
    "  i = 1\n",
    "  n = len(tmp)\n",
    "  while(i < n):\n",
    "    ans.append((tmp[i], tmp[(i + 1) % n]))\n",
    "    i += 2\n",
    "s = ', '.join(str(x) for x in ans)\n",
    "print(s)"
   ]
  },
  {
   "cell_type": "markdown",
   "metadata": {},
   "source": [
    "__BA6I Implement GraphToGenome__"
   ]
  },
  {
   "cell_type": "code",
   "execution_count": 30,
   "metadata": {},
   "outputs": [
    {
     "name": "stdout",
     "output_type": "stream",
     "text": [
      "[2, 4, 3, 6, 5, 1, 7, 9, 10, 12, 11, 8]\n"
     ]
    }
   ],
   "source": [
    "line = \"(2, 4), (3, 6), (5, 1), (7, 9), (10, 12), (11, 8)\"\n",
    "arr = list(map(int, line.strip().replace('(','').replace(',','').replace(')','').split()))\n",
    "print(arr)"
   ]
  },
  {
   "cell_type": "code",
   "execution_count": 53,
   "metadata": {},
   "outputs": [
    {
     "name": "stdout",
     "output_type": "stream",
     "text": [
      "[[1, -2, -3], [-4, 5, -6]]\n",
      "(+1 -2 -3)\n",
      "(-4 +5 -6)\n"
     ]
    }
   ],
   "source": [
    "arr=[2, 4, 3, 6, 5, 1, 7, 9, 10, 12, 11, 8]\n",
    "ans = []\n",
    "start = (arr[0] + 1) // 2\n",
    "\n",
    "if(arr[0]%2 == 1 ):\n",
    "  start = -start\n",
    "tmp = [start]\n",
    "i = 1\n",
    "n = len(arr) - 1\n",
    "\n",
    "while(i < n):\n",
    "  a = (arr[i] + 1) // 2\n",
    "  b = (arr[i + 1] + 1) // 2\n",
    "\n",
    "  if(a == b):\n",
    "    if(a * 2 == arr[i]):\n",
    "      a = - a\n",
    "    tmp.append(a)\n",
    "  else:\n",
    "    ans.append(tmp)\n",
    "    if(b * 2 != arr[i + 1]):\n",
    "      b = 0 - b\n",
    "    tmp = [b]\n",
    "  i += 2\n",
    "ans.append(tmp)\n",
    "print(ans)\n",
    "for i in ans:\n",
    "  print_all(i)"
   ]
  },
  {
   "cell_type": "markdown",
   "metadata": {},
   "source": [
    "__BA6J Implement 2-BreakOnGenomeGraph__"
   ]
  },
  {
   "cell_type": "code",
   "execution_count": 43,
   "metadata": {},
   "outputs": [
    {
     "name": "stdout",
     "output_type": "stream",
     "text": [
      "[[1, 3], [2, 4], [6, 8], [7, 5]]\n"
     ]
    }
   ],
   "source": [
    "graph=[[2,4],[3,8],[7,5],[6,1]]\n",
    "i1,i2,i3,i4=1,6,3,8\n",
    "\n",
    "def solve(graph,i1,i2,i3,i4):\n",
    "    if [i1,i2] in graph:\n",
    "        graph.remove([i1,i2])\n",
    "    else:\n",
    "        graph.remove([i2,i1])\n",
    "\n",
    "    if [i3,i4] in graph:\n",
    "        graph.remove([i3,i4])\n",
    "    else:\n",
    "        graph.remove([i4,i3])\n",
    "\n",
    "    # graph+=[[i1,i3]]+[[i2,i4]]\n",
    "    graph.append([i1,i3])\n",
    "    graph.append([i2,i4])\n",
    "    print(sorted(graph))\n",
    "solve(graph,i1,i2,i3,i4)\n",
    "\n"
   ]
  },
  {
   "cell_type": "markdown",
   "metadata": {},
   "source": [
    "__BA6K Implement 2-BreakOnGenome__"
   ]
  }
 ],
 "metadata": {
  "kernelspec": {
   "display_name": "Python 3",
   "language": "python",
   "name": "python3"
  },
  "language_info": {
   "codemirror_mode": {
    "name": "ipython",
    "version": 3
   },
   "file_extension": ".py",
   "mimetype": "text/x-python",
   "name": "python",
   "nbconvert_exporter": "python",
   "pygments_lexer": "ipython3",
   "version": "3.9.13"
  }
 },
 "nbformat": 4,
 "nbformat_minor": 2
}
